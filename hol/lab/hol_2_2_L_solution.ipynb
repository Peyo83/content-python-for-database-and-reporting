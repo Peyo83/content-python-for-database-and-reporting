{
 "cells": [
  {
   "cell_type": "markdown",
   "metadata": {},
   "source": [
    "# Examining Server Performance at a Local Restaurant\n",
    "\n",
    "You are operating as a freelance data scientist and have been hired by the owner of a local restaurant to help her make sense of data she has been keeping and to if there are insights that can be made about the service staff based on sales and tips.\n",
    "\n",
    "In the cell below you take the data given to you and make it a pandas dataframe."
   ]
  },
  {
   "cell_type": "code",
   "execution_count": null,
   "metadata": {},
   "outputs": [],
   "source": [
    "import pandas as pd\n",
    "restaurant_sales_data = pd.read_csv(\"./tips_csv.txt\", header=0)"
   ]
  },
  {
   "cell_type": "markdown",
   "metadata": {},
   "source": [
    "### Insert cells below to look at the data, use head, tail and describe."
   ]
  },
  {
   "cell_type": "code",
   "execution_count": null,
   "metadata": {},
   "outputs": [],
   "source": [
    "restaurant_sales_data.describe()\n"
   ]
  },
  {
   "cell_type": "code",
   "execution_count": null,
   "metadata": {},
   "outputs": [],
   "source": [
    "restaurant_sales_data.head()"
   ]
  },
  {
   "cell_type": "code",
   "execution_count": null,
   "metadata": {},
   "outputs": [],
   "source": [
    "percent_tip = pd.Series(restaurant_sales_data['tip']/restaurant_sales_data['meal_total'],name='tip_percent')"
   ]
  },
  {
   "cell_type": "code",
   "execution_count": null,
   "metadata": {},
   "outputs": [],
   "source": [
    "rsd_per_tips = pd.concat([restaurant_sales_data, percent_tip], axis=1)"
   ]
  },
  {
   "cell_type": "code",
   "execution_count": null,
   "metadata": {},
   "outputs": [],
   "source": [
    "rsd_per_tips.head()\n"
   ]
  },
  {
   "cell_type": "code",
   "execution_count": null,
   "metadata": {},
   "outputs": [],
   "source": [
    "rsd_per_tips[rsd_per_tips.tip_percent>=0.25].count()"
   ]
  },
  {
   "cell_type": "code",
   "execution_count": null,
   "metadata": {},
   "outputs": [],
   "source": [
    "restaurant_sales_data.wait_staff.unique()"
   ]
  },
  {
   "cell_type": "code",
   "execution_count": null,
   "metadata": {},
   "outputs": [],
   "source": [
    "marcia = restaurant_sales_data[restaurant_sales_data.wait_staff=='Marcia']\n",
    "jan = restaurant_sales_data[restaurant_sales_data.wait_staff=='Jan']\n",
    "greg = restaurant_sales_data[restaurant_sales_data.wait_staff=='Greg']\n",
    "bobby = restaurant_sales_data[restaurant_sales_data.wait_staff=='Bobby']\n",
    "peter = restaurant_sales_data[restaurant_sales_data.wait_staff=='Peter']\n",
    "cindy = restaurant_sales_data[restaurant_sales_data.wait_staff=='Cindy']"
   ]
  },
  {
   "cell_type": "code",
   "execution_count": null,
   "metadata": {},
   "outputs": [],
   "source": [
    "print(f\"Marcia:\\t ${marcia.tip.sum():.2f}\\t Average: ${marcia.tip.mean():.2f}\")\n",
    "print(f\"Jan:\\t ${jan.tip.sum():.2f}\\t Average: ${jan.tip.mean():.2f}\")\n",
    "print(f\"Greg:\\t ${greg.tip.sum():.2f}\\t Average: ${greg.tip.mean():.2f}\")\n",
    "print(f\"Bobby:\\t ${bobby.tip.sum():.2f}\\t Average: ${bobby.tip.mean():.2f}\")\n",
    "print(f\"Peter:\\t ${peter.tip.sum():.2f}\\t Average: ${peter.tip.mean():.2f}\")\n",
    "print(f\"Cindy:\\t ${cindy.tip.sum():.2f}\\t Average: ${cindy.tip.mean():.2f}\")\n"
   ]
  },
  {
   "cell_type": "code",
   "execution_count": null,
   "metadata": {},
   "outputs": [],
   "source": [
    "rsd_per_tips.groupby(['weekday', 'meal_type']).tip_percent.mean()"
   ]
  }
 ],
 "metadata": {
  "kernelspec": {
   "display_name": "Python 3",
   "language": "python",
   "name": "python3"
  },
  "language_info": {
   "codemirror_mode": {
    "name": "ipython",
    "version": 3
   },
   "file_extension": ".py",
   "mimetype": "text/x-python",
   "name": "python",
   "nbconvert_exporter": "python",
   "pygments_lexer": "ipython3",
   "version": "3.7.6"
  }
 },
 "nbformat": 4,
 "nbformat_minor": 4
}
