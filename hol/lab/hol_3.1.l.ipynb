{
 "cells": [
  {
   "cell_type": "markdown",
   "metadata": {},
   "source": [
    "# Setting Up a PostgreSQL Database for Sterling Vet Services\n",
    "\n",
    "You are a freelance developer who has accepted a job to develop a database for a veterinarian company.  They have given you a small CSV file and asked you to populate the database with a single table holding the data in the file. There are notes attached asking for you to add a weight for Petra of 12.5lbs  and to add a new pet Esmerelda who is a 2.5 yr old female Angus cow that weighs 1250 lbs, has no health issues, is vaccinated and is owned by the Garcia Ranch. "
   ]
  },
  {
   "cell_type": "markdown",
   "metadata": {},
   "source": [
    "### Setup PostgreSQL for cloud_user Access\n",
    "\n",
    "Create a cloud_user database and a cloud_user user with a password.  Grant all priveleges to database cloud_user by user cloud_user.\n",
    "\n",
    "#### Start psql\n",
    "- `sudo -u postgres psql`\n",
    "\n",
    "#### Create Database\n",
    "- `CREATE DATABASE cloud_user;`\n",
    "\n",
    "#### Create User\n",
    "- `CREATE USER cloud_user WITH ENCRYPTED PASSWORD 'cloud_user';`\n",
    "\n",
    "#### Grant Access to Database by User\n",
    "- `GRANT ALL PRIVILEGES ON DATABASE cloud_user TO cloud_user;`\n",
    "\n",
    "#### Leave psql\n",
    "- `\\q`\n"
   ]
  },
  {
   "cell_type": "markdown",
   "metadata": {},
   "source": [
    "### Imports and database connection string.  The PostgreSQL standard port is 5432."
   ]
  },
  {
   "cell_type": "code",
   "execution_count": null,
   "metadata": {},
   "outputs": [],
   "source": []
  },
  {
   "cell_type": "markdown",
   "metadata": {},
   "source": [
    "### Create Table\n",
    "\n",
    "Create a table with columns matching the vet.csv file."
   ]
  },
  {
   "cell_type": "code",
   "execution_count": null,
   "metadata": {},
   "outputs": [],
   "source": []
  },
  {
   "cell_type": "markdown",
   "metadata": {},
   "source": [
    "### Add the Data to Table\n",
    "\n",
    "Use a try..except..finally block to load the data from vet.csv into the table just created."
   ]
  },
  {
   "cell_type": "code",
   "execution_count": null,
   "metadata": {},
   "outputs": [],
   "source": []
  },
  {
   "cell_type": "markdown",
   "metadata": {},
   "source": [
    "### Selecting Data From a Server\n",
    "\n",
    "Create a function to execute a SQL statement to fetch records from the database.  Use try..except..finally and .fetchall().  The user should use LIMIT or TOP() to limit their results.\n"
   ]
  },
  {
   "cell_type": "code",
   "execution_count": null,
   "metadata": {},
   "outputs": [],
   "source": []
  },
  {
   "cell_type": "markdown",
   "metadata": {},
   "source": [
    "Get all data from the database."
   ]
  },
  {
   "cell_type": "code",
   "execution_count": null,
   "metadata": {},
   "outputs": [],
   "source": []
  },
  {
   "cell_type": "markdown",
   "metadata": {},
   "source": [
    "### Change Data in Database\n",
    "\n",
    "Create a function to execute a SQL statement to update records in the database.  Use try..except..finally. \n"
   ]
  },
  {
   "cell_type": "code",
   "execution_count": null,
   "metadata": {},
   "outputs": [],
   "source": []
  },
  {
   "cell_type": "markdown",
   "metadata": {},
   "source": [
    "Add a new record with the following data:\n",
    "Esmerelda is a 2.5 yr old female Angus cow that weighs 1250 lbs, has no health issues, and is vaccinated and owned by the Garcia Ranch."
   ]
  },
  {
   "cell_type": "code",
   "execution_count": null,
   "metadata": {},
   "outputs": [],
   "source": []
  },
  {
   "cell_type": "markdown",
   "metadata": {},
   "source": [
    "Check Record Added"
   ]
  },
  {
   "cell_type": "code",
   "execution_count": null,
   "metadata": {},
   "outputs": [],
   "source": []
  },
  {
   "cell_type": "markdown",
   "metadata": {},
   "source": [
    "#### Update Petra's weight.\n",
    "\n",
    "Make Petra's weight 12.5."
   ]
  },
  {
   "cell_type": "code",
   "execution_count": null,
   "metadata": {},
   "outputs": [],
   "source": []
  },
  {
   "cell_type": "markdown",
   "metadata": {},
   "source": [
    "Check Record"
   ]
  },
  {
   "cell_type": "code",
   "execution_count": null,
   "metadata": {},
   "outputs": [],
   "source": []
  }
 ],
 "metadata": {
  "kernelspec": {
   "display_name": "Python 3",
   "language": "python",
   "name": "python3"
  },
  "language_info": {
   "codemirror_mode": {
    "name": "ipython",
    "version": 3
   },
   "file_extension": ".py",
   "mimetype": "text/x-python",
   "name": "python",
   "nbconvert_exporter": "python",
   "pygments_lexer": "ipython3",
   "version": "3.7.6"
  }
 },
 "nbformat": 4,
 "nbformat_minor": 2
}
