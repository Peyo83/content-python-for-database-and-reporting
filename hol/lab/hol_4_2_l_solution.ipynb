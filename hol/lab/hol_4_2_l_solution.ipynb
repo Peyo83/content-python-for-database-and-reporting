{
 "cells": [
  {
   "cell_type": "markdown",
   "metadata": {},
   "source": [
    "# Using pandas Dataframes With Excel\n",
    "\n",
    "## lesson_4_2_l\n",
    "\n",
    "### Description\n",
    "\n",
    "You are applying to be a junior-level data analyst for a Financial Planner's office.  The senior-level data analyst has given you a file named `dow_jones_index.data` and a machine that has Anaconda installed.  He asks that you produce an Excel file with worksheets for each of three stock ticker names: GE, IBM, and KRFT.  "
   ]
  },
  {
   "cell_type": "markdown",
   "metadata": {},
   "source": [
    "#### Determine the data structure of the provided file"
   ]
  },
  {
   "cell_type": "code",
   "execution_count": null,
   "metadata": {},
   "outputs": [],
   "source": [
    "# open file for reading\n",
    "f = open('dow_jones_index.data')\n",
    "\n",
    "# print the first two lines\n",
    "print(f.readline())\n",
    "print(f.readline())\n",
    "\n",
    "f.close()"
   ]
  },
  {
   "cell_type": "markdown",
   "metadata": {},
   "source": [
    "#### It appears the file is CSV.  Read the file into a dataframe."
   ]
  },
  {
   "cell_type": "code",
   "execution_count": null,
   "metadata": {},
   "outputs": [],
   "source": [
    "import pandas as pd\n",
    "\n",
    "stock_df = pd.read_csv('dow_jones_index.data')\n",
    "                       \n",
    "stock_df.head()"
   ]
  },
  {
   "cell_type": "markdown",
   "metadata": {},
   "source": [
    "#### Create a dataframe for each of the requested stocks"
   ]
  },
  {
   "cell_type": "code",
   "execution_count": null,
   "metadata": {},
   "outputs": [],
   "source": [
    "ge_df = stock_df[stock_df.stock=='GE']\n",
    "ibm_df = stock_df[stock_df.stock=='IBM']\n",
    "krft_df = stock_df[stock_df.stock=='KRFT']"
   ]
  },
  {
   "cell_type": "markdown",
   "metadata": {},
   "source": [
    "#### Write the Excel file"
   ]
  },
  {
   "cell_type": "code",
   "execution_count": null,
   "metadata": {},
   "outputs": [],
   "source": [
    "with pd.ExcelWriter('stocks.xlsx') as writer:  \n",
    "    ge_df.to_excel(writer, sheet_name='GE')\n",
    "    ibm_df.to_excel(writer, sheet_name='IBM')\n",
    "    krft_df.to_excel(writer, sheet_name='KRFT')\n"
   ]
  },
  {
   "cell_type": "markdown",
   "metadata": {},
   "source": [
    "#### Load the file into an ordered dict dataframe and then check that each worksheet is populated."
   ]
  },
  {
   "cell_type": "code",
   "execution_count": null,
   "metadata": {},
   "outputs": [],
   "source": [
    "my_stock_df = pd.read_excel('stocks.xlsx', sheet_name=None)  \n",
    "\n",
    "my_stock_df.keys()"
   ]
  },
  {
   "cell_type": "code",
   "execution_count": null,
   "metadata": {},
   "outputs": [],
   "source": [
    "my_stock_df['GE']"
   ]
  },
  {
   "cell_type": "code",
   "execution_count": null,
   "metadata": {},
   "outputs": [],
   "source": [
    "my_stock_df['IBM']"
   ]
  },
  {
   "cell_type": "code",
   "execution_count": null,
   "metadata": {},
   "outputs": [],
   "source": [
    "my_stock_df['KRFT']"
   ]
  }
 ],
 "metadata": {
  "kernelspec": {
   "display_name": "Python 3",
   "language": "python",
   "name": "python3"
  },
  "language_info": {
   "codemirror_mode": {
    "name": "ipython",
    "version": 3
   },
   "file_extension": ".py",
   "mimetype": "text/x-python",
   "name": "python",
   "nbconvert_exporter": "python",
   "pygments_lexer": "ipython3",
   "version": "3.7.6"
  }
 },
 "nbformat": 4,
 "nbformat_minor": 2
}
