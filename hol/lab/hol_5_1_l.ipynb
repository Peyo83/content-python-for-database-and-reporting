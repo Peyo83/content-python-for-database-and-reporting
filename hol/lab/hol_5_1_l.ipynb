{
 "cells": [
  {
   "cell_type": "markdown",
   "metadata": {},
   "source": [
    "# Examining Titantic Data\n",
    "\n",
    "## hol_5_1_l\n",
    "\n",
    "### Description\n",
    "\n",
    "A common data science beginner's challenge is to examine Titantic data to look for patterns in survivability.  You are considering pursuing a career as a data scientist so you have decided to look at the Titantic data to get a cursory look at the career. The headings will lead you to what you need to do and don't forget to add a short paragraph about what the data show.\n",
    "\n",
    "Below you should review the data and try to answer the questions:\n",
    "1. What part did age play?\n",
    "2. What part did gender play?\n",
    "3. Did the passenger class make a difference?\n"
   ]
  },
  {
   "cell_type": "markdown",
   "metadata": {},
   "source": [
    "# Titanic Data: Factors Affecting Survivability\n",
    "\n",
    "This data was collected from a web search.  It is available from many different organizations.  The data provides specific data about passengers on the Titanic and whether they survived the disaster or not.\n",
    "\n",
    "The various data availabel is defined as:\n",
    "- PassengerId - Indexed starting at 1\n",
    "- Survived - Survival (0 = No; 1 = Yes)\n",
    "- Pclass - Passenger Class (1 = 1st; 2 = 2nd; 3 = 3rd)\n",
    "- Name - Name\n",
    "- Sex - Sex\n",
    "- Age - Age\n",
    "- SibSp - Number of Siblings/Spouses Aboard\n",
    "- Parch - Number of Parents/Children Aboard\n",
    "- Ticket - Ticket Number\n",
    "- Fare - Passenger Fare\n",
    "- Cabin - Cabin\n",
    "- Embarked - Port of Embarkation (C = Cherbourg; Q = Queenstown; S = Southampton)\n",
    "\n",
    "The questions we are asking:\n",
    "1. What part did age play?\n",
    "2. What part did gender play?\n",
    "3. Did the passenger class make a difference?"
   ]
  },
  {
   "cell_type": "markdown",
   "metadata": {},
   "source": [
    "#### Load the CSV Data Into a Dataframe"
   ]
  },
  {
   "cell_type": "markdown",
   "metadata": {},
   "source": [
    "#### Examine The Affect of Age on Survivability and Show Results as a Bar Chart\n",
    "\n",
    "**Age Groups**\n",
    "- Under 25\n",
    "- 25 - 49\n",
    "- 50 - 74\n",
    "- 75 and Older"
   ]
  },
  {
   "cell_type": "markdown",
   "metadata": {},
   "source": [
    "### Examine the Affect of Gender on Survivability and Show Results as a Bar Chart\n"
   ]
  },
  {
   "cell_type": "markdown",
   "metadata": {},
   "source": [
    "### Examine the Affect of Passenger Class on Survivability and Show Results as a Bar Chart"
   ]
  },
  {
   "cell_type": "code",
   "execution_count": null,
   "metadata": {},
   "outputs": [],
   "source": []
  }
 ],
 "metadata": {
  "kernelspec": {
   "display_name": "Python 3",
   "language": "python",
   "name": "python3"
  },
  "language_info": {
   "codemirror_mode": {
    "name": "ipython",
    "version": 3
   },
   "file_extension": ".py",
   "mimetype": "text/x-python",
   "name": "python",
   "nbconvert_exporter": "python",
   "pygments_lexer": "ipython3",
   "version": "3.7.6"
  }
 },
 "nbformat": 4,
 "nbformat_minor": 2
}
