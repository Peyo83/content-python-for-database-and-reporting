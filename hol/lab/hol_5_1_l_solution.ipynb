{
 "cells": [
  {
   "cell_type": "markdown",
   "metadata": {},
   "source": [
    "# Examining Titantic Data\n",
    "\n",
    "## hol_5_1_l\n",
    "\n",
    "### Description\n",
    "\n",
    "A common data science beginner's challenge is to examine Titantic data to look for patterns in survivability.  You are considering pursuing a career as a data scientist so you have decided to look at the Titantic data to get a cursory look at the career.\n",
    "\n",
    "Below you should review the data and try to answer the questions:\n",
    "1. What part did age play?\n",
    "2. What part did gender play?\n",
    "3. Did the passenger class make a difference?\n"
   ]
  },
  {
   "cell_type": "markdown",
   "metadata": {},
   "source": [
    "# Titanic Data: Factors Affecting Survivability\n",
    "\n",
    "This data was collected from a web search.  It is available from many different organizations.  The data provides specific data about passengers on the Titanic and whether they survived the disaster or not.\n",
    "\n",
    "The various data available is defined as:\n",
    "- PassengerId - Indexed starting at 1\n",
    "- Survived - Survival (0 = No; 1 = Yes)\n",
    "- Pclass - Passenger Class (1 = 1st; 2 = 2nd; 3 = 3rd)\n",
    "- Name - Name\n",
    "- Sex - Sex\n",
    "- Age - Age\n",
    "- SibSp - Number of Siblings/Spouses Aboard\n",
    "- Parch - Number of Parents/Children Aboard\n",
    "- Ticket - Ticket Number\n",
    "- Fare - Passenger Fare\n",
    "- Cabin - Cabin\n",
    "- Embarked - Port of Embarkation (C = Cherbourg; Q = Queenstown; S = Southampton)\n",
    "\n",
    "The questions we are asking:\n",
    "1. What part did age play?\n",
    "2. What part did gender play?\n",
    "3. Did the passenger class make a difference?"
   ]
  },
  {
   "cell_type": "markdown",
   "metadata": {},
   "source": [
    "#### Load the CSV Data Into a Dataframe"
   ]
  },
  {
   "cell_type": "code",
   "execution_count": null,
   "metadata": {},
   "outputs": [],
   "source": [
    "import matplotlib.pyplot as plt\n",
    "import pandas as pd\n",
    "\n",
    "%matplotlib inline\n",
    "\n",
    "titanic_df = pd.read_csv('titanic.csv')\n",
    "                       \n",
    "titanic_df.head()"
   ]
  },
  {
   "cell_type": "markdown",
   "metadata": {},
   "source": [
    "#### Examine The Affect of Age on Survivability\n",
    "\n",
    "- Under 25\n",
    "- 25 - 49\n",
    "- 50 - 74\n",
    "- 75 and Older"
   ]
  },
  {
   "cell_type": "code",
   "execution_count": null,
   "metadata": {},
   "outputs": [],
   "source": [
    "#### Under 12\n",
    "passengers_under_12 = titanic_df[titanic_df.Age < 12]\n",
    "passengers_under_12_survived = passengers_under_12[passengers_under_12.Survived == 1]\n",
    "passengers_under_12_percent_survived = passengers_under_12_survived.Age.count() / passengers_under_12.Age.count()\n",
    "\n",
    "# Under 13 - 24\n",
    "passengers_13_to_24 = titanic_df[(titanic_df.Age >= 13) & (titanic_df.Age < 25)]\n",
    "passengers_13_to_24_survived = passengers_13_to_24[passengers_13_to_24.Survived == 1]\n",
    "passengers_13_to_24_percent_survived = passengers_13_to_24_survived.Age.count() / passengers_13_to_24.Age.count()\n",
    "\n",
    "# 25 to 49\n",
    "passengers_25_to_49 = titanic_df[(titanic_df.Age >= 25) & (titanic_df.Age < 50)]\n",
    "passengers_25_to_49_survived = passengers_25_to_49[passengers_25_to_49.Survived == 1]\n",
    "passengers_25_to_49_percent_survived = passengers_25_to_49_survived.Age.count() / passengers_25_to_49.Age.count()\n",
    "\n",
    "# 50 to 74\n",
    "passengers_50_to_74 = titanic_df[(titanic_df.Age >= 50) & (titanic_df.Age < 74)]\n",
    "passengers_50_to_74_survived = passengers_50_to_74[passengers_50_to_74.Survived == 1]\n",
    "passengers_50_to_74_percent_survived = passengers_50_to_74_survived.Age.count() / passengers_50_to_74.Age.count()\n",
    "\n",
    "# 75 and over\n",
    "passengers_75_over = titanic_df[titanic_df.Age > 74]\n",
    "passengers_75_over_survived = passengers_75_over[passengers_75_over.Survived == 1]\n",
    "passengers_75_over_percent_survived = passengers_75_over_survived.Age.count() / passengers_75_over.Age.count()\n",
    "\n",
    "print(f'Under 12:\\t{passengers_under_12.Age.count()} - {passengers_under_12_percent_survived}')\n",
    "print(f'13 - 24:\\t{passengers_13_to_25.Age.count()} - {passengers_13_to_25_percent_survived}')\n",
    "print(f'25 - 49:\\t{passengers_25_to_49.Age.count()} - {passengers_25_to_49_percent_survived}')\n",
    "print(f'50 - 74:\\t{passengers_50_to_74.Age.count()} - {passengers_50_to_74_percent_survived}')\n",
    "print(f'75 & Over:\\t{passengers_75_over.Age.count()} - {passengers_75_over_percent_survived}')\n"
   ]
  },
  {
   "cell_type": "code",
   "execution_count": null,
   "metadata": {},
   "outputs": [],
   "source": [
    "# Show data as a bar chart\n",
    "groups = ('Under 12', '13 - 24', '25 - 49', '50 - 74', '75 & Over')\n",
    "percentages = [0.57, 0.37, 0.41, 0.36, 1]\n",
    "plt.bar(groups, percentages, align='center', alpha=0.5)\n",
    "plt.ylabel(\"Percent Survived\")\n",
    "plt.title(\"Titanic Survivablity by Age Group\")"
   ]
  },
  {
   "cell_type": "markdown",
   "metadata": {},
   "source": [
    "The suggests that children under 13 may have been given some perferential treatment for lifeboats.  However, it is not clear if survivability is only those that died in the event.  It may be that some of the children may have been more susceptible to environment factors, such as, temperature, and died in the lifeboat.\n",
    "\n",
    "Since there was only one passenger in the 75 & Over group, the survivability of that group is not useful and should not be considered."
   ]
  },
  {
   "cell_type": "markdown",
   "metadata": {},
   "source": [
    "### Examine the Affect of Gender on Survivability\n"
   ]
  },
  {
   "cell_type": "code",
   "execution_count": null,
   "metadata": {},
   "outputs": [],
   "source": [
    "#### Male\n",
    "passengers_male = titanic_df[titanic_df.Sex == \"male\"]\n",
    "passengers_male_survived = passengers_male[passengers_male.Survived == 1]\n",
    "passengers_male_percent_survived = passengers_male_survived.Sex.count() / passengers_male.Sex.count()\n",
    "\n",
    "#### Female\n",
    "passengers_female = titanic_df[titanic_df.Sex == \"female\"]\n",
    "passengers_female_survived = passengers_female[passengers_female.Survived == 1]\n",
    "passengers_female_percent_survived = passengers_female_survived.Sex.count() / passengers_female.Sex.count()\n",
    "\n",
    "print(f'Male:\\t{passengers_male.Sex.count()} - {passengers_male_percent_survived}')\n",
    "print(f'Female:\\t{passengers_female.Sex.count()} - {passengers_female_percent_survived}')"
   ]
  },
  {
   "cell_type": "code",
   "execution_count": null,
   "metadata": {},
   "outputs": [],
   "source": [
    "# Show data as a bar chart\n",
    "groups = ('Male', 'Female')\n",
    "percentages = [0.18, 0.74]\n",
    "plt.bar(groups, percentages, align='center', alpha=0.5)\n",
    "plt.ylabel(\"Percent Survived\")\n",
    "plt.title(\"Titanic Survivablity by Gender\")"
   ]
  },
  {
   "cell_type": "markdown",
   "metadata": {},
   "source": [
    "It is obvious female passengers were given preference over male passengers for lifeboats.  It would be interesting to break down the male survivors by age group.  Hypothesis: Younger males survived at a great rate."
   ]
  },
  {
   "cell_type": "markdown",
   "metadata": {},
   "source": [
    "### Examine the Affect of Passenger Class on Survivability"
   ]
  },
  {
   "cell_type": "code",
   "execution_count": null,
   "metadata": {},
   "outputs": [],
   "source": [
    "#### Passenger Class 1\n",
    "passengers_class_1 = titanic_df[titanic_df.Pclass == 1]\n",
    "passengers_class_1_survived = passengers_class_1[passengers_class_1.Survived == 1]\n",
    "passengers_class_1_percent_survived = passengers_class_1_survived.Pclass.count() / passengers_class_1.Pclass.count()\n",
    "\n",
    "#### Passenger Class 2\n",
    "passengers_class_2 = titanic_df[titanic_df.Pclass == 2]\n",
    "passengers_class_2_survived = passengers_class_2[passengers_class_2.Survived == 1]\n",
    "passengers_class_2_percent_survived = passengers_class_2_survived.Pclass.count() / passengers_class_2.Pclass.count()\n",
    "\n",
    "#### Passenger Class 3\n",
    "passengers_class_3 = titanic_df[titanic_df.Pclass == 3]\n",
    "passengers_class_3_survived = passengers_class_3[passengers_class_3.Survived == 1]\n",
    "passengers_class_3_percent_survived = passengers_class_3_survived.Pclass.count() / passengers_class_3.Pclass.count()\n",
    "\n",
    "\n",
    "print(f'Class 1:\\t{passengers_class_1.Pclass.count()} - {passengers_class_1_percent_survived}')\n",
    "print(f'Class 2:\\t{passengers_class_2.Pclass.count()} - {passengers_class_2_percent_survived}')\n",
    "print(f'Class 3:\\t{passengers_class_3.Pclass.count()} - {passengers_class_3_percent_survived}')\n"
   ]
  },
  {
   "cell_type": "code",
   "execution_count": null,
   "metadata": {},
   "outputs": [],
   "source": [
    "# Show data as a bar chart\n",
    "groups = ('Class 1', 'Class 2', 'Class 3')\n",
    "percentages = [0.63, 0.47, 0.24]\n",
    "plt.bar(groups, percentages, align='center', alpha=0.5)\n",
    "plt.ylabel(\"Percent Survived\")\n",
    "plt.title(\"Titanic Survivablity by Passenger Class\")"
   ]
  },
  {
   "cell_type": "markdown",
   "metadata": {},
   "source": [
    "It is clear that Class 1 passengers were more likely to be saved, whether they were closer to the lifeboats or a genuine perference cannot be deteremined.  One again looking at this data by age and gender would be interesting for furtehr study.\n",
    "\n",
    "This is not an exhaustive review of the data available, but simple review based on three attributes treating them as independent.  Much more data could be analyzed for deeper more specific ideas of how the surviving passengers were selected."
   ]
  },
  {
   "cell_type": "code",
   "execution_count": null,
   "metadata": {},
   "outputs": [],
   "source": []
  }
 ],
 "metadata": {
  "kernelspec": {
   "display_name": "Python 3",
   "language": "python",
   "name": "python3"
  },
  "language_info": {
   "codemirror_mode": {
    "name": "ipython",
    "version": 3
   },
   "file_extension": ".py",
   "mimetype": "text/x-python",
   "name": "python",
   "nbconvert_exporter": "python",
   "pygments_lexer": "ipython3",
   "version": "3.7.6"
  }
 },
 "nbformat": 4,
 "nbformat_minor": 2
}
